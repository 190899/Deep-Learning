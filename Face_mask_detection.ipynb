{
 "cells": [
  {
   "cell_type": "code",
   "execution_count": 1,
   "id": "89be4809",
   "metadata": {},
   "outputs": [
    {
     "name": "stdout",
     "output_type": "stream",
     "text": [
      "WARNING:tensorflow:From C:\\Users\\hp\\anaconda3\\Lib\\site-packages\\keras\\src\\losses.py:2976: The name tf.losses.sparse_softmax_cross_entropy is deprecated. Please use tf.compat.v1.losses.sparse_softmax_cross_entropy instead.\n",
      "\n"
     ]
    }
   ],
   "source": [
    "# import the necessary packages\n",
    "from tensorflow.keras.preprocessing.image import ImageDataGenerator\n",
    "from tensorflow.keras.applications import MobileNetV2\n",
    "from tensorflow.keras.layers import AveragePooling2D\n",
    "from tensorflow.keras.layers import Dropout\n",
    "from tensorflow.keras.layers import Flatten\n",
    "from tensorflow.keras.layers import Dense\n",
    "from tensorflow.keras.layers import Input\n",
    "from tensorflow.keras.models import Model\n",
    "from tensorflow.keras.optimizers import Adam\n",
    "from tensorflow.keras.applications.mobilenet_v2 import preprocess_input\n",
    "from tensorflow.keras.preprocessing.image import img_to_array\n",
    "from tensorflow.keras.preprocessing.image import load_img\n",
    "from tensorflow.keras.utils import to_categorical\n",
    "from sklearn.preprocessing import LabelBinarizer\n",
    "from sklearn.model_selection import train_test_split\n",
    "from sklearn.metrics import classification_report\n",
    "from imutils import paths\n",
    "import matplotlib.pyplot as plt\n",
    "import numpy as np\n",
    "import argparse\n",
    "import os"
   ]
  },
  {
   "cell_type": "code",
   "execution_count": 2,
   "id": "e6ca8f18",
   "metadata": {},
   "outputs": [
    {
     "name": "stdout",
     "output_type": "stream",
     "text": [
      "[INFO]Loading images.....\n"
     ]
    }
   ],
   "source": [
    "print(\"[INFO]Loading images.....\")\n",
    "imagepaths=list(paths.list_images(\"G:\\LBCS\\Deep Learning\\Fack Mask\"))\n",
    "data=[]\n",
    "labels=[]"
   ]
  },
  {
   "cell_type": "code",
   "execution_count": 3,
   "id": "fc78a05f",
   "metadata": {},
   "outputs": [],
   "source": [
    "#loop the imagepath\n",
    "for imagepath in imagepaths:\n",
    "    #extract the class label from the filename\n",
    "    label=imagepath.split(os.path.sep)[-2]\n",
    "    \n",
    "    #load the imput image(224x224) and preprocess it\n",
    "    image=load_img(imagepath, target_size=(224, 224))\n",
    "    image=img_to_array(image)\n",
    "    image=preprocess_input(image)\n",
    "    \n",
    "    #update the data and labels lists, respectively\n",
    "    data.append(image)\n",
    "    labels.append(label)"
   ]
  },
  {
   "cell_type": "code",
   "execution_count": 4,
   "id": "4ce0775f",
   "metadata": {},
   "outputs": [],
   "source": [
    "#convert the data and labels to Numpy arrys\n",
    "data=np.array(data, dtype=\"float32\")\n",
    "labels=np.array(labels)\n",
    "\n",
    "#preform one-hot encoding on the label \n",
    "lb=LabelBinarizer()\n",
    "labels=lb.fit_transform(labels)\n",
    "labels=to_categorical(labels)"
   ]
  },
  {
   "cell_type": "code",
   "execution_count": 5,
   "id": "f9f494ea",
   "metadata": {},
   "outputs": [],
   "source": [
    "#the data for training and the remaining 25% for testing \n",
    "(train_x,test_x,train_y,test_y)=train_test_split(data, labels,\n",
    "                                                 test_size=0.20, stratify=labels, random_state=45)"
   ]
  },
  {
   "cell_type": "code",
   "execution_count": 6,
   "id": "307e43e7",
   "metadata": {},
   "outputs": [],
   "source": [
    "#construct the training image generator for data augumentation\n",
    "aug=ImageDataGenerator(rotation_range=20, zoom_range=0.15, \n",
    "                      width_shift_range=0.2, height_shift_range=0.2, \n",
    "                      shear_range=0.15, horizontal_flip=True, fill_mode=\"neareast\")"
   ]
  },
  {
   "cell_type": "code",
   "execution_count": 7,
   "id": "7d632707",
   "metadata": {},
   "outputs": [
    {
     "name": "stdout",
     "output_type": "stream",
     "text": [
      "WARNING:tensorflow:From C:\\Users\\hp\\anaconda3\\Lib\\site-packages\\keras\\src\\backend.py:1398: The name tf.executing_eagerly_outside_functions is deprecated. Please use tf.compat.v1.executing_eagerly_outside_functions instead.\n",
      "\n",
      "WARNING:tensorflow:`input_shape` is undefined or non-square, or `rows` is not in [128, 160, 192, 224]. Weights for input shape (224, 224) will be loaded as the default.\n",
      "WARNING:tensorflow:From C:\\Users\\hp\\anaconda3\\Lib\\site-packages\\keras\\src\\layers\\normalization\\batch_normalization.py:979: The name tf.nn.fused_batch_norm is deprecated. Please use tf.compat.v1.nn.fused_batch_norm instead.\n",
      "\n"
     ]
    }
   ],
   "source": [
    "from tensorflow.keras.models import Model\n",
    "from tensorflow.keras.applications import MobileNet\n",
    "baseModel=MobileNet(weights='imagenet',include_top=False, input_tensor=Input(shape=(224,224,3)))"
   ]
  },
  {
   "cell_type": "code",
   "execution_count": 8,
   "id": "aeb9e1db",
   "metadata": {},
   "outputs": [],
   "source": [
    "#construct the head of the model that will be places on top of the base model\n",
    "headmodel=baseModel.output\n",
    "headmodel=AveragePooling2D(pool_size=(7, 7))(headmodel)\n",
    "headmodel=Flatten(name=\"flatten\")(headmodel)\n",
    "headmodel=Dense(128, activation=\"relu\")(headmodel)\n",
    "headmodel=Dropout(0.5)(headmodel)\n",
    "headmodel=Dense(2, activation=\"softmax\")(headmodel)"
   ]
  },
  {
   "cell_type": "code",
   "execution_count": 9,
   "id": "ea68a484",
   "metadata": {},
   "outputs": [],
   "source": [
    "#loop over all layers in the base model and freeze them so they will \"not\" be Updated during the \n",
    "#first training process\n",
    "for layer in baseModel.layers:\n",
    "    layer.trainabel=False"
   ]
  },
  {
   "cell_type": "code",
   "execution_count": 10,
   "id": "a1a2e9ec",
   "metadata": {},
   "outputs": [
    {
     "name": "stdout",
     "output_type": "stream",
     "text": [
      "[info]Compile your model....\n"
     ]
    }
   ],
   "source": [
    "#initialize the initial learning rate, number of epochs to train for, and batch size\n",
    "INIT_LR=1e-4\n",
    "EPOCHS=7\n",
    "BS=32\n",
    "\n",
    "#Compile your model\n",
    "print(\"[info]Compile your model....\")\n",
    "opt=Adam(learning_rate=INIT_LR)\n",
    "model=Model(inputs=baseModel.input,outputs=headmodel)\n",
    "model.compile(loss=\"binary_crossentropy\", optimizer=opt, metrics=[\"accuracy\"])"
   ]
  },
  {
   "cell_type": "code",
   "execution_count": 11,
   "id": "d7a9fd1a",
   "metadata": {},
   "outputs": [
    {
     "name": "stdout",
     "output_type": "stream",
     "text": [
      "Epoch 1/7\n",
      "WARNING:tensorflow:From C:\\Users\\hp\\anaconda3\\Lib\\site-packages\\keras\\src\\utils\\tf_utils.py:492: The name tf.ragged.RaggedTensorValue is deprecated. Please use tf.compat.v1.ragged.RaggedTensorValue instead.\n",
      "\n",
      "WARNING:tensorflow:From C:\\Users\\hp\\anaconda3\\Lib\\site-packages\\keras\\src\\engine\\base_layer_utils.py:384: The name tf.executing_eagerly_outside_functions is deprecated. Please use tf.compat.v1.executing_eagerly_outside_functions instead.\n",
      "\n",
      "24/24 [==============================] - 131s 4s/step - loss: 0.3200 - accuracy: 0.8725 - val_loss: 0.0976 - val_accuracy: 0.9799\n",
      "Epoch 2/7\n",
      "24/24 [==============================] - 69s 3s/step - loss: 0.0821 - accuracy: 0.9777 - val_loss: 0.0471 - val_accuracy: 0.9849\n",
      "Epoch 3/7\n",
      "24/24 [==============================] - 68s 3s/step - loss: 0.0581 - accuracy: 0.9816 - val_loss: 0.0293 - val_accuracy: 0.9950\n",
      "Epoch 4/7\n",
      "24/24 [==============================] - 68s 3s/step - loss: 0.0362 - accuracy: 0.9882 - val_loss: 0.0084 - val_accuracy: 1.0000\n",
      "Epoch 5/7\n",
      "24/24 [==============================] - 68s 3s/step - loss: 0.0213 - accuracy: 0.9961 - val_loss: 0.0058 - val_accuracy: 1.0000\n",
      "Epoch 6/7\n",
      "24/24 [==============================] - 68s 3s/step - loss: 0.0204 - accuracy: 0.9934 - val_loss: 0.0085 - val_accuracy: 0.9950\n",
      "Epoch 7/7\n",
      "24/24 [==============================] - 68s 3s/step - loss: 0.0097 - accuracy: 0.9987 - val_loss: 0.0029 - val_accuracy: 1.0000\n"
     ]
    }
   ],
   "source": [
    "from scipy.ndimage import affine_transform\n",
    "\n",
    "# Assuming you have defined train_x, train_y, test_x, and test_y somewhere in your code\n",
    "\n",
    "# Define your augmentation parameters\n",
    "aug = ImageDataGenerator(rotation_range=20, zoom_range=0.15, width_shift_range=0.2, height_shift_range=0.2, shear_range=0.15, \n",
    "                         horizontal_flip=True, fill_mode=\"nearest\")\n",
    "\n",
    "# Assuming you have defined model, BS, and EPOCHS somewhere in your code\n",
    "\n",
    "# Fit the model with data augmentation\n",
    "head = model.fit(aug.flow(train_x, train_y, batch_size=BS), \n",
    "                 steps_per_epoch=len(train_x) // BS, \n",
    "                 validation_data=(test_x, test_y), \n",
    "                 validation_steps=len(test_x) // BS, \n",
    "                 epochs=EPOCHS)\n"
   ]
  },
  {
   "cell_type": "code",
   "execution_count": 12,
   "id": "4cf8cf95",
   "metadata": {},
   "outputs": [
    {
     "name": "stdout",
     "output_type": "stream",
     "text": [
      "7/7 [==============================] - 5s 536ms/step\n"
     ]
    }
   ],
   "source": [
    "#make predictions on the testing\n",
    "predIdxs=model.predict(test_x)"
   ]
  },
  {
   "cell_type": "code",
   "execution_count": 13,
   "id": "4bf1fb9c",
   "metadata": {},
   "outputs": [],
   "source": [
    "#for each image in the testing set we need to find the indexof the \n",
    "#label with corresponding largest predicted probability\n",
    "predIdxs=np.argmax(predIdxs, axis=1)"
   ]
  },
  {
   "cell_type": "code",
   "execution_count": 14,
   "id": "9073fd3d",
   "metadata": {},
   "outputs": [
    {
     "name": "stdout",
     "output_type": "stream",
     "text": [
      "              precision    recall  f1-score   support\n",
      "\n",
      "    WithMask       1.00      1.00      1.00        97\n",
      " WithoutMask       1.00      1.00      1.00       102\n",
      "\n",
      "    accuracy                           1.00       199\n",
      "   macro avg       1.00      1.00      1.00       199\n",
      "weighted avg       1.00      1.00      1.00       199\n",
      "\n"
     ]
    }
   ],
   "source": [
    "#show classification report\n",
    "print(classification_report(test_y.argmax(axis=1),predIdxs, target_names=lb.classes_))"
   ]
  },
  {
   "cell_type": "code",
   "execution_count": 15,
   "id": "88942c05",
   "metadata": {},
   "outputs": [
    {
     "name": "stdout",
     "output_type": "stream",
     "text": [
      "[INFO] saving mask detector model...\n"
     ]
    },
    {
     "name": "stderr",
     "output_type": "stream",
     "text": [
      "C:\\Users\\hp\\anaconda3\\Lib\\site-packages\\keras\\src\\engine\\training.py:3103: UserWarning: You are saving your model as an HDF5 file via `model.save()`. This file format is considered legacy. We recommend using instead the native Keras format, e.g. `model.save('my_model.keras')`.\n",
      "  saving_api.save_model(\n"
     ]
    }
   ],
   "source": [
    "# serialize the model to disk\n",
    "print(\"[INFO] saving mask detector model...\")\n",
    "args = {\"model\": \"G:/LBCS/Deep Learning/Fack Mask/mask_detector.model\"  # Specify the path where you want to save the model\n",
    "       }\n",
    "model.save(args[\"model\"], save_format=\"h5\")"
   ]
  },
  {
   "cell_type": "code",
   "execution_count": 16,
   "id": "3485d852",
   "metadata": {},
   "outputs": [
    {
     "data": {
      "text/plain": [
       "<matplotlib.legend.Legend at 0x23f889e2890>"
      ]
     },
     "execution_count": 16,
     "metadata": {},
     "output_type": "execute_result"
    },
    {
     "data": {
      "image/png": "[encoded data removed]",
      "text/plain": [
       "<Figure size 640x480 with 1 Axes>"
      ]
     },
     "metadata": {},
     "output_type": "display_data"
    }
   ],
   "source": [
    "import matplotlib.pyplot as plt\n",
    "#plot the loss and accuracy\n",
    "N=EPOCHS\n",
    "plt.style.use(\"ggplot\")\n",
    "plt.figure()\n",
    "plt.plot(np.arange(0, N),head.history[\"loss\"],label=\"train_loss\")\n",
    "plt.plot(np.arange(0, N),head.history[\"val_loss\"],label=\"val_loss\")\n",
    "plt.plot(np.arange(0, N),head.history[\"accuracy\"],label=\"train_accuray\")\n",
    "plt.plot(np.arange(0, N),head.history[\"val_accuracy\"],label=\"val_accuracy\")\n",
    "plt.title(\"Loss and Accuracy\")\n",
    "plt.xlabel(\"Epoch #\")\n",
    "plt.ylabel(\"Loss\\Accuracy\")\n",
    "plt.legend(loc=\"lower left\")"
   ]
  },
  {
   "cell_type": "code",
   "execution_count": null,
   "id": "e1580e34",
   "metadata": {},
   "outputs": [],
   "source": []
  }
 ],
 "metadata": {
  "kernelspec": {
   "display_name": "Python 3 (ipykernel)",
   "language": "python",
   "name": "python3"
  },
  "language_info": {
   "codemirror_mode": {
    "name": "ipython",
    "version": 3
   },
   "file_extension": ".py",
   "mimetype": "text/x-python",
   "name": "python",
   "nbconvert_exporter": "python",
   "pygments_lexer": "ipython3",
   "version": "3.11.5"
  }
 },
 "nbformat": 4,
 "nbformat_minor": 5
}
