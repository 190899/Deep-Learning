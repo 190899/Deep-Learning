{
 "cells": [
  {
   "cell_type": "code",
   "execution_count": 1,
   "id": "00c17e96",
   "metadata": {},
   "outputs": [
    {
     "name": "stdout",
     "output_type": "stream",
     "text": [
      "WARNING:tensorflow:From C:\\Users\\hp\\anaconda3\\Lib\\site-packages\\keras\\src\\losses.py:2976: The name tf.losses.sparse_softmax_cross_entropy is deprecated. Please use tf.compat.v1.losses.sparse_softmax_cross_entropy instead.\n",
      "\n"
     ]
    }
   ],
   "source": [
    "import os\n",
    "import cv2\n",
    "import numpy as np\n",
    "from tensorflow.keras.models import load_model\n",
    "import matplotlib.pyplot as plt"
   ]
  },
  {
   "cell_type": "code",
   "execution_count": 2,
   "id": "6b599f80",
   "metadata": {},
   "outputs": [],
   "source": [
    "# Load the trained model\n",
    "model = cv2.dnn_DetectionModel('fabric_defect_detection_model.pb')"
   ]
  },
  {
   "cell_type": "code",
   "execution_count": 3,
   "id": "fe7a3cdf",
   "metadata": {},
   "outputs": [
    {
     "data": {
      "text/plain": [
       "< cv2.dnn.Model 000001A7EE0B5DD0>"
      ]
     },
     "execution_count": 3,
     "metadata": {},
     "output_type": "execute_result"
    }
   ],
   "source": [
    "model.setInputSize(320,320)\n",
    "model.setInputScale(1.0/127.5)\n",
    "model.setInputMean((127.5,127.5,127.5))\n",
    "model.setInputSwapRB(True)"
   ]
  },
  {
   "cell_type": "code",
   "execution_count": 4,
   "id": "9ed90886",
   "metadata": {},
   "outputs": [
    {
     "data": {
      "text/plain": [
       "<matplotlib.image.AxesImage at 0x1a7ee0fb490>"
      ]
     },
     "execution_count": 4,
     "metadata": {},
     "output_type": "execute_result"
    },
    {
     "data": {
      "image/png": "[encoded data removed]",
      "text/plain": [
       "<Figure size 640x480 with 1 Axes>"
      ]
     },
     "metadata": {},
     "output_type": "display_data"
    }
   ],
   "source": [
    "import cv2\n",
    "import matplotlib.pyplot as plt\n",
    "\n",
    "# Read the image using OpenCV\n",
    "img = cv2.imread('hole_train.jpg')\n",
    "\n",
    "# Display the image\n",
    "plt.imshow(img)\n",
    "#plt.axis('off')  # Turn off axis labels\n",
    "#plt.show()\n"
   ]
  },
  {
   "cell_type": "code",
   "execution_count": 5,
   "id": "8579c14d",
   "metadata": {},
   "outputs": [
    {
     "data": {
      "image/png": "[encoded data removed]",
      "text/plain": [
       "<Figure size 640x480 with 1 Axes>"
      ]
     },
     "metadata": {},
     "output_type": "display_data"
    }
   ],
   "source": [
    "# Display the image using Matplotlib\n",
    "gray_image=plt.imshow(cv2.cvtColor(img, cv2.COLOR_BGR2RGB))  # Convert BGR to RGB color space for proper display\n"
   ]
  },
  {
   "cell_type": "code",
   "execution_count": 6,
   "id": "28ac86e3",
   "metadata": {},
   "outputs": [],
   "source": [
    "import cv2\n",
    "import numpy as np\n",
    "\n",
    "def detect_defects(image_path):\n",
    "    # Load the image\n",
    "    image = cv2.imread(image_path)\n",
    "    \n",
    "    # Convert the image to grayscale\n",
    "    gray_image = cv2.cvtColor(image, cv2.COLOR_BGR2GRAY)\n",
    "    \n",
    "    # Apply Gaussian blur to smooth the image and remove noise\n",
    "    blurred_image = cv2.GaussianBlur(gray_image, (5, 5), 0)\n",
    "    \n",
    "    # Apply adaptive thresholding to binarize the image\n",
    "    _, thresh = cv2.threshold(blurred_image, 0, 255, cv2.THRESH_BINARY + cv2.THRESH_OTSU)\n",
    "    \n",
    "    # Find contours in the binary image\n",
    "    contours, _ = cv2.findContours(thresh, cv2.RETR_EXTERNAL, cv2.CHAIN_APPROX_SIMPLE)\n",
    "    \n",
    "    # Initialize defect names dictionary\n",
    "    defect_names = {1: \"Hole\", 2: \"Line\", 3: \"No Defect\"}\n",
    "    \n",
    "    # Iterate through the contours and draw bounding boxes around defects\n",
    "    for contour in contours:\n",
    "        # Calculate the area of the contour\n",
    "        area = cv2.contourArea(contour)\n",
    "        \n",
    "        # Set a threshold for defect area\n",
    "        min_defect_area = 100  # Adjust this threshold based on your requirements\n",
    "        \n",
    "        if area > min_defect_area:\n",
    "            # Draw bounding box around the defect\n",
    "            x, y, w, h = cv2.boundingRect(contour)\n",
    "            cv2.rectangle(image, (x, y), (x + w, y + h), (0, 0, 255), 2)\n",
    "            \n",
    "            # Classify defect based on aspect ratio\n",
    "            aspect_ratio = float(w) / h\n",
    "            if aspect_ratio > 2:\n",
    "                defect_name = defect_names[2]  # Line\n",
    "            elif aspect_ratio < 1.0:\n",
    "                defect_name = defect_names[1]  # Hole\n",
    "            else:\n",
    "                defect_name = defect_names[3]  # No Defect\n",
    "                \n",
    "            # Write defect name on the image\n",
    "            cv2.putText(image, defect_name, (x, y - 10), cv2.FONT_HERSHEY_SIMPLEX, 0.5, (0, 0, 255), 2)\n",
    "    \n",
    "    # Display the result\n",
    "    cv2.imshow('Defects Detected', image)\n",
    "    cv2.waitKey(0)\n",
    "    cv2.destroyAllWindows()\n",
    "\n",
    "# Example usage\n",
    "image_path = 'G:/LBCS/Deep Learning/Deep Learning Assignment/hole_train.jpg'  # Replace with the actual path to your image file\n",
    "detect_defects(image_path)"
   ]
  },
  {
   "cell_type": "code",
   "execution_count": null,
   "id": "63d00070",
   "metadata": {},
   "outputs": [],
   "source": []
  }
 ],
 "metadata": {
  "kernelspec": {
   "display_name": "Python 3 (ipykernel)",
   "language": "python",
   "name": "python3"
  },
  "language_info": {
   "codemirror_mode": {
    "name": "ipython",
    "version": 3
   },
   "file_extension": ".py",
   "mimetype": "text/x-python",
   "name": "python",
   "nbconvert_exporter": "python",
   "pygments_lexer": "ipython3",
   "version": "3.11.5"
  }
 },
 "nbformat": 4,
 "nbformat_minor": 5
}
